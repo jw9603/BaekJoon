{
 "cells": [
  {
   "cell_type": "code",
   "execution_count": null,
   "id": "bcb4dc90",
   "metadata": {},
   "outputs": [],
   "source": [
    "#1\n",
    "n = int(input())\n",
    "a = list(map(int,input().split()))\n",
    "a.sort()\n",
    "print(a[0],a[-1])"
   ]
  },
  {
   "cell_type": "code",
   "execution_count": 19,
   "id": "5114306a",
   "metadata": {},
   "outputs": [
    {
     "name": "stdout",
     "output_type": "stream",
     "text": [
      "3\n",
      "29\n",
      "38\n",
      "12\n",
      "57\n",
      "74\n",
      "40\n",
      "85\n",
      "61\n",
      "85\n",
      "8\n"
     ]
    }
   ],
   "source": [
    "## 2\n",
    "list_a=[]\n",
    "for _ in range(9):\n",
    "    list_a.append(int(input()))\n",
    "max_a = max(list_a)\n",
    "\n",
    "print(max_a)\n",
    "print(list_a.index(max_a)+1)\n",
    "\n",
    "    "
   ]
  },
  {
   "cell_type": "code",
   "execution_count": 28,
   "id": "f308bb3d",
   "metadata": {},
   "outputs": [
    {
     "name": "stdout",
     "output_type": "stream",
     "text": [
      "150\n",
      "266\n",
      "427\n",
      "['1', '7', '0', '3', '7', '3', '0', '0']\n",
      "3\n",
      "1\n",
      "0\n",
      "2\n",
      "0\n",
      "0\n",
      "0\n",
      "2\n",
      "0\n",
      "0\n"
     ]
    }
   ],
   "source": [
    "#3\n",
    "a = int(input())\n",
    "b = int(input())\n",
    "c = int(input())\n",
    "d = list(str(a*b*c))\n",
    "for i in range(10):\n",
    "    print(d.count(str(i)))\n",
    "\n",
    "'''\n",
    "문자열 안에서 찾고 싶은 문자의 개수를 찾을 수 있다. \n",
    "어떤 함수는 문자열에서만 사용 가능한 함수도 있는데 \n",
    "count 함수는 튜플, 리스트, 집합과 같은 반복 가능한 iterable 자료형에서도 사용 가능하다. \n",
    "모든 자료형에서 사용 가능한 것은 아니어서 사용되지 않는 자료형은 dictionary, set이다.\n",
    "사용방법은 '변수. count(찾는 요소)' 형태로 사용한다.\n",
    "괄호( ) 안에 찾고자 하는 값을 입력하면 함수를 사용한 변수 안에서 해당 값의 개수를 숫자로 반환한다. \n",
    "'''"
   ]
  },
  {
   "cell_type": "code",
   "execution_count": 41,
   "id": "70c16971",
   "metadata": {},
   "outputs": [
    {
     "name": "stdout",
     "output_type": "stream",
     "text": [
      "1\n",
      "2\n",
      "3\n",
      "4\n",
      "5\n",
      "6\n",
      "7\n",
      "8\n",
      "9\n",
      "10\n",
      "10\n"
     ]
    }
   ],
   "source": [
    "### 4\n",
    "list_a = []\n",
    "for _ in range(10):\n",
    "    list_a.append(int(input())%42)\n",
    "a = set(list_a)\n",
    "print(len(a)) #집합의 경우 길이를 구하면 중복을 제거한다."
   ]
  }
 ],
 "metadata": {
  "kernelspec": {
   "display_name": "Python 3",
   "language": "python",
   "name": "python3"
  },
  "language_info": {
   "codemirror_mode": {
    "name": "ipython",
    "version": 3
   },
   "file_extension": ".py",
   "mimetype": "text/x-python",
   "name": "python",
   "nbconvert_exporter": "python",
   "pygments_lexer": "ipython3",
   "version": "3.8.8"
  }
 },
 "nbformat": 4,
 "nbformat_minor": 5
}
